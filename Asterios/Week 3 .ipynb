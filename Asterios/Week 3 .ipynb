{
 "cells": [
  {
   "cell_type": "markdown",
   "metadata": {},
   "source": [
    "# Week 3 | Social Data Analysis and Visualization"
   ]
  },
  {
   "cell_type": "markdown",
   "metadata": {},
   "source": [
    "## Part 1: Fundamentals of data visualization"
   ]
  },
  {
   "cell_type": "markdown",
   "metadata": {},
   "source": [
    "> *Excercise:* Questions for the lecture\n",
    "> * What is the difference between *data* and *metadata*? How does that relate to the bike-example?\n",
    "> * Sune says that the human eye is a great tool for data analysis. Do you agree? Explain why/why not. Mention something that the human eye is very good at. Can you think of something that [is difficult for the human eye](http://cdn.ebaumsworld.com/mediaFiles/picture/718392/84732652.jpg). Explain why your example is difficult. \n",
    "> * Simpson's paradox is hard to explain. Come up with your own example - or find one on line.\n",
    "> * In your own words, explain the differnece between *exploratory* and *explanatory* data analysis. \n",
    "\n",
    "\n",
    "Next, something a bit more specific on data analysis. Digging a bit more into the theory.\n"
   ]
  },
  {
   "cell_type": "markdown",
   "metadata": {},
   "source": [
    ">* What is the difference between *data* and *metadata*? How does that relate to the bike-example?\n",
    "\n",
    "Data is a set of facts and statistics can that be operated, referred or analyzed. Metadata, on the other side, describes relevant information about the data. Metadata is always informative and processed data whereas data may or may not be neither informative nor processed. \n",
    "\n",
    "Relating to the bike-example, the metadata from the gps we get a lot of context (also related to the knowledge we have from earth!), so whe can \"plot\" the whole trip of google earth and observe a satelite view of the trip with the help of metadata."
   ]
  },
  {
   "cell_type": "markdown",
   "metadata": {},
   "source": [
    ">* Sune says that the human eye is a great tool for data analysis. Do you agree? Explain why/why not. Mention something that the human eye is very good at. Can you think of something that [is difficult for the human eye](http://cdn.ebaumsworld.com/mediaFiles/picture/718392/84732652.jpg). Explain why your example is difficult. "
   ]
  },
  {
   "cell_type": "markdown",
   "metadata": {},
   "source": [
    "You can think of the human eye as an in-build statistical tool that served the humans since their existance. But it's not that great either. \n",
    "\n",
    "The human eye can distinguish few from the many (understand the difference of 1 dot vs 1000) but it cannot \"focus\" always on the specific data or pattern that though a plot we can easily depict. For example, the human eye is good at judging if the street is dangerous to walk on at night, but with the help of a map, measuring the distance from the city center can surely change the pedestrians perspective."
   ]
  },
  {
   "cell_type": "markdown",
   "metadata": {},
   "source": [
    ">* In your own words, explain the differnece between *exploratory* and *explanatory* data analysis. "
   ]
  },
  {
   "cell_type": "markdown",
   "metadata": {},
   "source": [
    "exploratory analysis is what you do to understand and get familiar with your data and generate information. Whether you start out with a hypothesis or question or are just exploring the data to see what might be interesting about it, during exploratory analysis, you are concerned with finding relationships between variables as well as identifying patterns and outliers. \n",
    "\n",
    "Explanatory analysis is what you do once you have found something interesting and want to know more about it. During explanatory analysis, you focus on what has happened (information) and why it happened (knowledge). The key outputs of explanatory analysis are insights that, if used to guide decision-making and actions, become wisdom. "
   ]
  },
  {
   "cell_type": "markdown",
   "metadata": {},
   "source": [
    "> *Excercise:* Questions for the lecture\n",
    "> * As mentioned earlier, visualization is not the only way to test for correlation. We can (for example) calculate the Pearson correlation. Explain in your own words how the Pearson correlation works and write down it's mathematical formulation. Can you think of an example where it fails (and visualization works)?\n",
    "> * What is the difference between a bar-chart and a histogram?\n",
    "> * I mention in the video that it's important to choose the right bin-size in histograms. But how do you do that? Do a Google search to find a criterion you like and explain it. "
   ]
  },
  {
   "cell_type": "markdown",
   "metadata": {},
   "source": [
    ">* As mentioned earlier, visualization is not the only way to test for correlation. We can (for example) calculate the Pearson correlation. Explain in your own words how the Pearson correlation works and write down it's mathematical formulation. Can you think of an example where it fails (and visualization works)?"
   ]
  },
  {
   "cell_type": "markdown",
   "metadata": {},
   "source": [
    "This the Pearsons correlation applied for a sample:\n",
    "$r_{x y}=\\frac{\\sum_{i=1}^{n}\\left(x_{i}-\\bar{x}\\right)\\left(y_{i}-\\bar{y}\\right)}{\\sqrt{\\sum_{i=1}^{n}\\left(x_{i}-\\bar{x}\\right)^{2}} \\sqrt{\\sum_{i=1}^{n}\\left(y_{i}-\\bar{y}\\right)^{2}}}$\n",
    "\n",
    "An example where visualization works better, instead of a Pearsons correlation, is to detect outliers in the data with the form of visualizing. Removing false values and ourliers, the Pearson correlation will give a greater number (close to 1). "
   ]
  },
  {
   "cell_type": "markdown",
   "metadata": {},
   "source": [
    ">* What is the difference between a bar-chart and a histogram?"
   ]
  },
  {
   "cell_type": "markdown",
   "metadata": {},
   "source": [
    "On the bar-chart, when we have a lot of values in the x-axis, the chart becomes too \"crowdy\" leaving us unable to draw many insights. To understand better of the trends, we can use a histogram. In histogram we define some bins and we define the number of values we see in those bins.\n",
    "\n",
    "More into it :\n",
    "- The Histogram refers to a graphical representation that shows data by way of bars to display the frequency of numerical data whereas the Bar graph is a graphical representation of data that uses bars to compare different categories of data.\n",
    "- Histogram used for distribution of non-discrete variables while Bar Graph is used for comparison of discrete variables .\n",
    "- In Histogram, we cannot rearrange the blocks while in Bar Charts, it is common to rearrange the blocks, from highest to lowest.\n",
    "- Histogram used for displaying the frequency of occurrences and Bar Plots helps you to compare different categories of data."
   ]
  },
  {
   "cell_type": "markdown",
   "metadata": {},
   "source": [
    "> * I mention in the video that it's important to choose the right bin-size in histograms. But how do you do that? Do a Google search to find a criterion you like and explain it. "
   ]
  },
  {
   "cell_type": "markdown",
   "metadata": {},
   "source": [
    "One criterion is [Freedman-Diaconis rule](https://en.wikipedia.org/wiki/Freedman%E2%80%93Diaconis_rule). It is designed to minimize the difference between the area under the empirical probability distribution and the area under the theoretical probability distribution.\n",
    "The general eq. is: \n",
    "$\\operatorname{Bin}$ width $=2 \\frac{\\operatorname{IQR}(x)}{\\sqrt[3]{n}}$, \n",
    "where IQR is the interquartile range of the data and n is the number of observations in the sample $x$."
   ]
  },
  {
   "cell_type": "markdown",
   "metadata": {},
   "source": [
    "## Part 2: Reading about the thoery of visualization"
   ]
  },
  {
   "cell_type": "markdown",
   "metadata": {},
   "source": [
    "> *Excercise*: Questions for DAOST\n",
    "> * Explain in your own words the point of the jitter plot.\n",
    "> * Explain in your own words the point of figure 2-3. (I'm going to skip saying \"in your own words\" going forward, but I hope you get the point; I expect all answers to be in your own words).\n",
    "> * The author of DAOST (Philipp Janert) likes KDEs (and think they're better than histograms). And I don't. I didn't give a detailed explanation in the video, but now that works to my advantage. I'll ask you guys to think about this and thereby create an excellent exercise: When can KDEs be misleading? (I'll provide the answer in a later lecture :)\n",
    "> * I've discussed some strengths of the CDF - there are also weaknesses. Janert writes \"CDFs have less intuitive appeal than histograms of KDEs\". What does he mean by that?\n",
    "> * What is a *Quantile plot*? What is it good for. \n",
    "> * How is a *Probablity plot* defined? What is it useful for? Have you ever seen one before?\n",
    "> * One of the reasons I like DAOST is that Janert is so suspicious of mean, median, and related summary statistics. Explain why one has to be careful when using those - and why visualization of the full data is always better. \n",
    "> * I love box plots. When are box plots most useful?\n",
    "> * The book doesn't mention [violin plots](https://en.wikipedia.org/wiki/Violin_plot). Are those better or worse than box plots? Why?"
   ]
  },
  {
   "cell_type": "markdown",
   "metadata": {},
   "source": [
    "> * Explain in your workds the point of the jitter plot"
   ]
  },
  {
   "cell_type": "markdown",
   "metadata": {},
   "source": [
    "When a certain tenure occurs, in the data, more than once the corresponding data points fall right on top of each other. To be able to distiquish them, we have the jitter plots, a method where we move a point by a small random amount from its original position (usually on the y axis)"
   ]
  },
  {
   "cell_type": "markdown",
   "metadata": {},
   "source": [
    "> * Explain in your own words the point of figure 2-3. (I'm going to skip saying \"in your own words\" going forward, but I hope you get the point; I expect all answers to be in your own words)."
   ]
  },
  {
   "cell_type": "markdown",
   "metadata": {},
   "source": [
    "In the figure 2-3, the position of the first bin is crutial in regard of observing a general trend for the data. \n",
    "\n",
    "We specifically see alligned bins on the whole number in the first image, and centered bins on the whole number (in the second). It is very important the ammount of bins chosen in order to depict general trends! "
   ]
  },
  {
   "cell_type": "markdown",
   "metadata": {},
   "source": [
    "> * The author of DAOST (Philipp Janert) likes KDEs (and think they're better than histograms). And I don't. I didn't give a detailed explanation in the video, but now that works to my advantage. I'll ask you guys to think about this and thereby create an excellent exercise: When can KDEs be misleading? (I'll provide the answer in a later lecture :)"
   ]
  },
  {
   "cell_type": "markdown",
   "metadata": {},
   "source": [
    "KDEs can also be misleading in the way histograms can be. Instead of histograms bins, with KDEs we could have a wrongly choosen parameter - bandwidth. If it is too high, we lose important details about the data. On the other hand, if it is too low, it can be hard to find overall pattern, since the resulting curve is too wiggly. This is called a bias-variance trade-off. The optimal bandwidth is a property of the dataset and results in the most informative and true visualization of the dataset."
   ]
  },
  {
   "cell_type": "markdown",
   "metadata": {},
   "source": [
    "> * I've discussed some strengths of the CDF - there are also weaknesses. Janert writes \"CDFs have less intuitive appeal than histograms of KDEs\". What does he mean by that?"
   ]
  },
  {
   "cell_type": "markdown",
   "metadata": {},
   "source": [
    "The CDF is less intuitive because it is cumulative. As a consequence, an exact value for one argument is easy to find only for the first one. Further parts of the plot is a sum of previous values, so it is hard for us to find values of specific arguments. "
   ]
  },
  {
   "cell_type": "markdown",
   "metadata": {},
   "source": [
    "> * What is a *Quantile plot*? What is it good for. "
   ]
  },
  {
   "cell_type": "markdown",
   "metadata": {},
   "source": [
    "A quantile plot is just the plot of a CDF in which the x and y axes have been switched. It is easier to answer questions such as: ‘what is the value of x for the 10th percentile of y?"
   ]
  },
  {
   "cell_type": "markdown",
   "metadata": {},
   "source": [
    "> * One of the reasons I like DAOST is that Janert is so suspicious of mean, median, and related summary statistics. Explain why one has to be careful when using those - and why visualization of the full data is always better. "
   ]
  },
  {
   "cell_type": "markdown",
   "metadata": {},
   "source": [
    "If it is suspected that the data distribution is symmetric and doesn’t have important outliers, then tools like mean or standard deviation could be a right choice. However, when the data distribution is skewed (which often happens) and there could be some outlier, the median and percentile should be used. It is important to see the outliers, and the whole distribution of data. Mean and median in many cases are hiding some relevant information."
   ]
  },
  {
   "cell_type": "markdown",
   "metadata": {},
   "source": [
    "> * How is a *Probablity plot* defined? What is it useful for? Have you ever seen one before?"
   ]
  },
  {
   "cell_type": "markdown",
   "metadata": {},
   "source": [
    "Probability plot is a graphical technique for comparing two data sets using distribution, either two sets of empirical observations, or one empirical set against a theoretical set. Probability plot can be used for comparison between observed data with truth data, or observed with predicted data. Moreover, the probability plot allows to figure out whether the dataset follows a gaussian distribution. Yes, we have seen one before. Probability plots are very popular in field of machine learning."
   ]
  },
  {
   "cell_type": "markdown",
   "metadata": {},
   "source": [
    "> * I love box plots. When are box plots most useful?"
   ]
  },
  {
   "cell_type": "markdown",
   "metadata": {},
   "source": [
    "Box plots are the most useful, when we need to see the distribution of all the data, as well as specific information on outliers presence. Box plots are very useful to compare several distributions against one another."
   ]
  },
  {
   "cell_type": "markdown",
   "metadata": {},
   "source": [
    "> * The book doesn't mention [violin plots](https://en.wikipedia.org/wiki/Violin_plot). Are those better or worse than box plots? Why?"
   ]
  },
  {
   "cell_type": "markdown",
   "metadata": {},
   "source": [
    "The violin plots, apart from everything that box plots shows, also provides probability density. Extra information included in the plot may result in better understanding of the data."
   ]
  },
  {
   "cell_type": "code",
   "execution_count": null,
   "metadata": {},
   "outputs": [],
   "source": []
  }
 ],
 "metadata": {
  "kernelspec": {
   "display_name": "Python 3",
   "language": "python",
   "name": "python3"
  },
  "language_info": {
   "codemirror_mode": {
    "name": "ipython",
    "version": 3
   },
   "file_extension": ".py",
   "mimetype": "text/x-python",
   "name": "python",
   "nbconvert_exporter": "python",
   "pygments_lexer": "ipython3",
   "version": "3.7.7"
  }
 },
 "nbformat": 4,
 "nbformat_minor": 4
}
