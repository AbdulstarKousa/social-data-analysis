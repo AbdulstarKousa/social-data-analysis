{
 "cells": [
  {
   "cell_type": "markdown",
   "metadata": {},
   "source": [
    "# Week 3 | Social Data Analysis and Visualization"
   ]
  },
  {
   "cell_type": "markdown",
   "metadata": {},
   "source": [
    "> *Excercise:* Questions for the lecture\n",
    "> * What is the difference between *data* and *metadata*? How does that relate to the bike-example?\n",
    "> * Sune says that the human eye is a great tool for data analysis. Do you agree? Explain why/why not. Mention something that the human eye is very good at. Can you think of something that [is difficult for the human eye](http://cdn.ebaumsworld.com/mediaFiles/picture/718392/84732652.jpg). Explain why your example is difficult. \n",
    "> * Simpson's paradox is hard to explain. Come up with your own example - or find one on line.\n",
    "> * In your own words, explain the differnece between *exploratory* and *explanatory* data analysis. \n",
    "\n",
    "\n",
    "Next, something a bit more specific on data analysis. Digging a bit more into the theory.\n"
   ]
  },
  {
   "cell_type": "markdown",
   "metadata": {},
   "source": [
    ">* What is the difference between *data* and *metadata*? How does that relate to the bike-example?\n",
    "\n",
    "Data is a set of facts and statistics can that be operated, referred or analyzed. Metadata, on the other side, describes relevant information about the data. Metadata is always informative and processed data whereas data may or may not be neither informative nor processed. \n",
    "\n",
    "Relating to the bike-example, the metadata from the gps we get a lot of context (also related to the knowledge we have from earth!), so whe can \"plot\" the whole trip of google earth and observe a satelite view of the trip with the help of metadata."
   ]
  },
  {
   "cell_type": "markdown",
   "metadata": {},
   "source": [
    ">* Sune says that the human eye is a great tool for data analysis. Do you agree? Explain why/why not. Mention something that the human eye is very good at. Can you think of something that [is difficult for the human eye](http://cdn.ebaumsworld.com/mediaFiles/picture/718392/84732652.jpg). Explain why your example is difficult. "
   ]
  },
  {
   "cell_type": "markdown",
   "metadata": {},
   "source": [
    "You can think of the human eye as an in-build statistical tool that served the humans since their existance. But it's not that great either. \n",
    "\n",
    "The human eye can distinguish few from the many (understand the difference of 1 dot vs 1000) but it cannot \"focus\" always on the specific data or pattern that though a plot we can easily depict. For example, the human eye is good at judging if the street is dangerous to walk on at night, but with the help of a map, measuring the distance from the city center can surely change the pedestrians perspective."
   ]
  },
  {
   "cell_type": "markdown",
   "metadata": {},
   "source": [
    ">* In your own words, explain the differnece between *exploratory* and *explanatory* data analysis. "
   ]
  },
  {
   "cell_type": "markdown",
   "metadata": {},
   "source": [
    "exploratory analysis is what you do to understand and get familiar with your data and generate information. Whether you start out with a hypothesis or question or are just exploring the data to see what might be interesting about it, during exploratory analysis, you are concerned with finding relationships between variables as well as identifying patterns and outliers. \n",
    "\n",
    "Explanatory analysis is what you do once you have found something interesting and want to know more about it. During explanatory analysis, you focus on what has happened (information) and why it happened (knowledge). The key outputs of explanatory analysis are insights that, if used to guide decision-making and actions, become wisdom. "
   ]
  },
  {
   "cell_type": "markdown",
   "metadata": {},
   "source": [
    "> *Excercise:* Questions for the lecture\n",
    "> * As mentioned earlier, visualization is not the only way to test for correlation. We can (for example) calculate the Pearson correlation. Explain in your own words how the Pearson correlation works and write down it's mathematical formulation. Can you think of an example where it fails (and visualization works)?\n",
    "> * What is the difference between a bar-chart and a histogram?\n",
    "> * I mention in the video that it's important to choose the right bin-size in histograms. But how do you do that? Do a Google search to find a criterion you like and explain it. "
   ]
  },
  {
   "cell_type": "markdown",
   "metadata": {},
   "source": [
    ">* As mentioned earlier, visualization is not the only way to test for correlation. We can (for example) calculate the Pearson correlation. Explain in your own words how the Pearson correlation works and write down it's mathematical formulation. Can you think of an example where it fails (and visualization works)?"
   ]
  },
  {
   "cell_type": "markdown",
   "metadata": {},
   "source": [
    "This the Pearsons correlation applied for a sample:\n",
    "$r_{x y}=\\frac{\\sum_{i=1}^{n}\\left(x_{i}-\\bar{x}\\right)\\left(y_{i}-\\bar{y}\\right)}{\\sqrt{\\sum_{i=1}^{n}\\left(x_{i}-\\bar{x}\\right)^{2}} \\sqrt{\\sum_{i=1}^{n}\\left(y_{i}-\\bar{y}\\right)^{2}}}$\n",
    "\n",
    "An example where visualization works better, instead of a Pearsons correlation, is to detect outliers in the data with the form of visualizing. Removing false values and ourliers, the Pearson correlation will give a greater number (close to 1). "
   ]
  },
  {
   "cell_type": "markdown",
   "metadata": {},
   "source": [
    ">* What is the difference between a bar-chart and a histogram?"
   ]
  },
  {
   "cell_type": "markdown",
   "metadata": {},
   "source": [
    "On the bar-chart, when we have a lot of values in the x-axis, the chart becomes too \"crowdy\" leaving us unable to draw many insights. To understand better of the trends, we can use a histogram. In histogram we define some bins and we define the number of values we see in those bins.\n",
    "\n",
    "More into it :\n",
    "- The Histogram refers to a graphical representation that shows data by way of bars to display the frequency of numerical data whereas the Bar graph is a graphical representation of data that uses bars to compare different categories of data.\n",
    "- Histogram used for distribution of non-discrete variables while Bar Graph is used for comparison of discrete variables .\n",
    "- In Histogram, we cannot rearrange the blocks while in Bar Charts, it is common to rearrange the blocks, from highest to lowest.\n",
    "- Histogram used for displaying the frequency of occurrences and Bar Plots helps you to compare different categories of data."
   ]
  },
  {
   "cell_type": "markdown",
   "metadata": {},
   "source": [
    "> * I mention in the video that it's important to choose the right bin-size in histograms. But how do you do that? Do a Google search to find a criterion you like and explain it. "
   ]
  },
  {
   "cell_type": "markdown",
   "metadata": {},
   "source": [
    "One criterion is [Freedman-Diaconis rule](https://en.wikipedia.org/wiki/Freedman%E2%80%93Diaconis_rule). It is designed to minimize the difference between the area under the empirical probability distribution and the area under the theoretical probability distribution.\n",
    "The general eq. is: \n",
    "$\\operatorname{Bin}$ width $=2 \\frac{\\operatorname{IQR}(x)}{\\sqrt[3]{n}}$, \n",
    "where IQR is the interquartile range of the data and n is the number of observations in the sample $x$."
   ]
  },
  {
   "cell_type": "code",
   "execution_count": null,
   "metadata": {},
   "outputs": [],
   "source": []
  }
 ],
 "metadata": {
  "kernelspec": {
   "display_name": "Python 3",
   "language": "python",
   "name": "python3"
  },
  "language_info": {
   "codemirror_mode": {
    "name": "ipython",
    "version": 3
   },
   "file_extension": ".py",
   "mimetype": "text/x-python",
   "name": "python",
   "nbconvert_exporter": "python",
   "pygments_lexer": "ipython3",
   "version": "3.7.7"
  }
 },
 "nbformat": 4,
 "nbformat_minor": 4
}
