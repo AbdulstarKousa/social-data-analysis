{
 "metadata": {
  "language_info": {
   "codemirror_mode": {
    "name": "ipython",
    "version": 3
   },
   "file_extension": ".py",
   "mimetype": "text/x-python",
   "name": "python",
   "nbconvert_exporter": "python",
   "pygments_lexer": "ipython3",
   "version": "3.7.7-final"
  },
  "orig_nbformat": 2,
  "kernelspec": {
   "name": "python3",
   "display_name": "Python 3.7.7 64-bit ('dtu': conda)",
   "metadata": {
    "interpreter": {
     "hash": "d07658868a49728302b8572106d1d000b96862f6a8fe27e3a40f664356d3048e"
    }
   }
  }
 },
 "nbformat": 4,
 "nbformat_minor": 2,
 "cells": [
  {
   "cell_type": "code",
   "execution_count": 69,
   "metadata": {},
   "outputs": [],
   "source": [
    "import numpy as np\n",
    "import pandas as pd\n",
    "\n",
    "from IPython.display import display\n",
    "from IPython import get_ipython\n",
    "get_ipython().run_line_magic('matplotlib', 'inline')\n",
    "import matplotlib.pyplot as plt \n",
    "import seaborn as sns\n",
    "sns.set()\n",
    "import folium\n",
    "import calendar\n",
    "import os \n",
    "from sklearn.utils import resample\n",
    "from sklearn.model_selection import train_test_split\n",
    "from sklearn.tree import DecisionTreeClassifier\n",
    "from sklearn.ensemble import RandomForestClassifier\n",
    "import warnings\n",
    "warnings.filterwarnings(\"ignore\")"
   ]
  },
  {
   "cell_type": "code",
   "execution_count": 30,
   "metadata": {},
   "outputs": [],
   "source": [
    "\"\"\" Data : !=2018 \"\"\"\n",
    "fileName = 'Police_Department_Incident_Reports__Historical_2003_to_May_2018.csv'\n",
    "filePath = os.path.abspath(os.path.join(os.getcwd(), '..' ,'Datasets', fileName))\n",
    "Data = pd.read_csv(filePath)\n",
    "Data['Year'] = pd.to_datetime(Data['Date']).dt.year\n",
    "Data = Data[Data['Year'] != 2018]\n",
    "\n",
    "# \"\"\" data : Data in fc \"\"\"\n",
    "# focuscrimes = set(['WEAPON LAWS', 'PROSTITUTION', 'DRIVING UNDER THE INFLUENCE', 'ROBBERY', 'BURGLARY', 'ASSAULT', 'DRUNKENNESS', 'DRUG/NARCOTIC', 'TRESPASS', 'LARCENY/THEFT', 'VANDALISM', 'VEHICLE THEFT', 'STOLEN PROPERTY', 'DISORDERLY CONDUCT'])\n",
    "# focuscrimes_lst = list(focuscrimes)\n",
    "# focuscrimes_lst.sort()\n",
    "# data = Data[Data['Category'].isin(focuscrimes_lst)]"
   ]
  },
  {
   "cell_type": "code",
   "execution_count": 31,
   "metadata": {},
   "outputs": [],
   "source": [
    "# Data['Category'].value_counts()"
   ]
  },
  {
   "source": [
    "Let's start:"
   ],
   "cell_type": "markdown",
   "metadata": {}
  },
  {
   "cell_type": "code",
   "execution_count": 32,
   "metadata": {},
   "outputs": [
    {
     "output_type": "stream",
     "name": "stdout",
     "text": [
      "Dimmentionality of the data before:\nBurglary (88971, 37)\nForgery (22800, 37)\n"
     ]
    }
   ],
   "source": [
    "#dataset = data[data['Categoruy']]\n",
    "# data[data['Category'].isin([\"PROSTITUTION\", \"ROBBERY\"])]\n",
    "\n",
    "data = Data[Data['Category'].isin(['BURGLARY', 'FORGERY/COUNTERFEITING'])]\n",
    "\n",
    "data[\"datetime\"] = data.apply(lambda x: pd.to_datetime(x.Date + \" \" + x.Time).round(\"H\").tz_localize(\"ETC/GMT-7\"), axis = 1) \n",
    "\n",
    "# Here we do a bit more complicated thing\n",
    "# .apply allows us to use function for each row of a dataframe (read documentation for more info)\n",
    "# so we take a row (which is x) and take cell of Date and Time -> and concatenate them to one big string\n",
    "# that can be then converted to datetime. We would also want to remove any seconds and minutes (round to hours)\n",
    "# then we specify that dates are in GMT-7\n",
    "# the result is going to be stored in new \"datetime\" column\n",
    "\n",
    "#it might take some time\n",
    "\n",
    "# now you  can merge two datasets\n",
    "\n",
    "data['Date'] = pd.to_datetime(data[\"Date\"])\n",
    "burglary = data[data['Category'].isin([\"BURGLARY\"])]\n",
    "forgery = data[data['Category'].isin([\"FORGERY/COUNTERFEITING\"])]\n",
    "\n",
    "print(\"Dimmentionality of the data before:\")\n",
    "print(\"Burglary\", burglary.shape)\n",
    "print(\"Forgery\", forgery.shape)"
   ]
  },
  {
   "cell_type": "code",
   "execution_count": 33,
   "metadata": {},
   "outputs": [],
   "source": [
    "burglary = resample(burglary, \n",
    "                                replace=False,    # sample without replacement\n",
    "                                n_samples=10000,     # to match minority_2 class\n",
    "                                random_state=123) # reproducible results\n",
    "\n",
    "forgery = resample(forgery, \n",
    "                                replace=False,    # sample without replacement\n",
    "                                n_samples=10000,     # to match minority_2 class\n",
    "                                random_state=123) # reproducible results"
   ]
  },
  {
   "cell_type": "code",
   "execution_count": 34,
   "metadata": {},
   "outputs": [
    {
     "output_type": "stream",
     "name": "stdout",
     "text": [
      "Dimmentionality of the data after:\nProstitution (10000, 37)\nRobbery (10000, 37)\n"
     ]
    }
   ],
   "source": [
    "print(\"Dimmentionality of the data after:\")\n",
    "print(\"Prostitution\", burglary.shape)\n",
    "print(\"Robbery\", forgery.shape)"
   ]
  },
  {
   "cell_type": "code",
   "execution_count": 35,
   "metadata": {},
   "outputs": [],
   "source": [
    "dataset = pd.concat([burglary, forgery])\n",
    "dataset['Date'] = pd.to_datetime(dataset['Date'])"
   ]
  },
  {
   "cell_type": "code",
   "execution_count": 36,
   "metadata": {},
   "outputs": [],
   "source": [
    "# dataset[['Category', 'PdDistrict', 'DayOfWeek', 'Date', 'Time', 'Year']]"
   ]
  },
  {
   "cell_type": "code",
   "execution_count": 37,
   "metadata": {},
   "outputs": [],
   "source": [
    "dataset['Month'] = pd.to_datetime(dataset['Date']).dt.month\n",
    "dataset['Time_numeric'] = pd.to_datetime(dataset['Time']).dt.hour"
   ]
  },
  {
   "cell_type": "code",
   "execution_count": 38,
   "metadata": {},
   "outputs": [],
   "source": [
    "# day_to_num(x)  \n",
    "#   takes a categorical value from 'DayOfWeek' features and\n",
    "#   returns a numeric number 1-7 accordingly (1 is Monday).\n",
    "def day_to_num(x):\n",
    "    if(x=='Monday'): return 1\n",
    "    elif(x=='Tuesday'): return 2\n",
    "    elif(x=='Wednesday'): return 3\n",
    "    elif(x=='Thursday'): return 4\n",
    "    elif(x=='Friday'): return 5\n",
    "    elif(x=='Saturday'): return 6\n",
    "    elif(x=='Sunday'): return 7\n",
    "    else: return float('nan')\n",
    "\n",
    "dataset['DayOfWeek_numeric'] = dataset['DayOfWeek'].apply(lambda x: day_to_num(x)).astype('int64')"
   ]
  },
  {
   "cell_type": "code",
   "execution_count": 39,
   "metadata": {},
   "outputs": [],
   "source": [
    "# dataset['PdDistrict'].value_counts()\n",
    "\n",
    "# def district_to_num(x):\n",
    "#     for i,district in enumerate (dataset['PdDistrict'].unique()):\n",
    "#         if (x==district): return i\n",
    "\n",
    "# dataset['PdDistrict_num'] = dataset['PdDistrict'].apply(lambda x: district_to_num(x)).astype('int64')\n",
    "\n",
    "# or with dummy variables \n",
    "# pd.get_dummies(dataset['PdDistrict'])\n",
    "dataset2 = pd.get_dummies(dataset, columns=['PdDistrict'])"
   ]
  },
  {
   "source": [
    "Now we are going to to build is a decision tree (or, even better, a Random Forest, here is another tutorial for Random Forests) classifier that takes as input the four labels (Hour-of-the-day, Day-of-the-week, Month-of-the-year, and PD-District) of a crime (from one of the two categories) and then tries to predict which category that crime is from. >"
   ],
   "cell_type": "markdown",
   "metadata": {}
  },
  {
   "cell_type": "code",
   "execution_count": 40,
   "metadata": {},
   "outputs": [],
   "source": [
    "features = dataset2.iloc[ :, -13:].copy()\n",
    "targets = dataset2.loc[:, ['Category']].copy()"
   ]
  },
  {
   "cell_type": "code",
   "execution_count": 41,
   "metadata": {},
   "outputs": [],
   "source": [
    "# split train and test sets \n",
    "X_train, X_test, y_train, y_test = train_test_split(features, targets, test_size=0.33, random_state=42)"
   ]
  },
  {
   "cell_type": "code",
   "execution_count": 42,
   "metadata": {},
   "outputs": [],
   "source": [
    "# decision tree classifier\n",
    "model = DecisionTreeClassifier()\n",
    "decision_tree = model.fit(X_train,y_train)\n",
    "y_pred = decision_tree.predict(X_test)"
   ]
  },
  {
   "cell_type": "code",
   "execution_count": 43,
   "metadata": {},
   "outputs": [],
   "source": [
    "def evaluate(y_test, y_pred):\n",
    "    classes = list(set(y_test['Category'].unique()))\n",
    "    class00 = 0\n",
    "    class11 = 0\n",
    "    class01 = 0\n",
    "    class10 = 0\n",
    "    \n",
    "    for i in range(len(y_test)):\n",
    "        if y_test['Category'].iloc[i] == classes[0] and y_pred[i] == classes[0]:\n",
    "            class00 += 1\n",
    "        elif y_test['Category'].iloc[i] == classes[1] and y_pred[i] == classes[1]:\n",
    "            class11 += 1\n",
    "        elif y_test['Category'].iloc[i] == classes[0] and y_pred[i] == classes[1]:\n",
    "            class01 += 1\n",
    "        else:\n",
    "            class10 += 1\n",
    "            \n",
    "    precision = (class00 + class11) / (class00 + class01 + class10 + class11)\n",
    "    return(precision)"
   ]
  },
  {
   "cell_type": "code",
   "execution_count": 44,
   "metadata": {},
   "outputs": [
    {
     "output_type": "execute_result",
     "data": {
      "text/plain": [
       "0.593939393939394"
      ]
     },
     "metadata": {},
     "execution_count": 44
    }
   ],
   "source": [
    "evaluate(y_test, y_pred)"
   ]
  },
  {
   "source": [
    "Does one hot encoding affect your results? Why/Why not?"
   ],
   "cell_type": "markdown",
   "metadata": {}
  },
  {
   "cell_type": "code",
   "execution_count": 45,
   "metadata": {},
   "outputs": [],
   "source": [
    "def district_to_num(x):\n",
    "    for i,district in enumerate (dataset['PdDistrict'].unique()):\n",
    "        if (x==district): return i\n",
    "\n",
    "dataset['PdDistrict_num'] = dataset['PdDistrict'].apply(lambda x: district_to_num(x)).astype('int64')"
   ]
  },
  {
   "cell_type": "code",
   "execution_count": 46,
   "metadata": {},
   "outputs": [],
   "source": [
    "features2 = dataset.loc[:, ['Month', 'Time_numeric', 'DayOfWeek_numeric', 'PdDistrict_num']].copy()\n",
    "targets2 = dataset.loc[:, ['Category']].copy()"
   ]
  },
  {
   "cell_type": "code",
   "execution_count": 47,
   "metadata": {},
   "outputs": [],
   "source": [
    "X_train, X_test, y_train, y_test = train_test_split(features2, targets2, test_size=0.33, random_state=42)"
   ]
  },
  {
   "cell_type": "code",
   "execution_count": 48,
   "metadata": {},
   "outputs": [],
   "source": [
    "model = DecisionTreeClassifier()\n",
    "decision_tree = model.fit(X_train,y_train)\n",
    "y_pred = decision_tree.predict(X_test)"
   ]
  },
  {
   "cell_type": "code",
   "execution_count": 49,
   "metadata": {},
   "outputs": [
    {
     "output_type": "execute_result",
     "data": {
      "text/plain": [
       "0.5959090909090909"
      ]
     },
     "metadata": {},
     "execution_count": 49
    }
   ],
   "source": [
    "evaluate(y_test, y_pred)"
   ]
  },
  {
   "source": [
    "## Part 3 "
   ],
   "cell_type": "markdown",
   "metadata": {}
  },
  {
   "cell_type": "code",
   "execution_count": 50,
   "metadata": {},
   "outputs": [
    {
     "output_type": "execute_result",
     "data": {
      "text/plain": [
       "                       date  temperature  humidity       weather  wind_speed  \\\n",
       "0 2012-10-01 23:00:00+07:00    16.330000      88.0    light rain         2.0   \n",
       "1 2012-10-02 00:00:00+07:00    16.324993      87.0  sky is clear         2.0   \n",
       "2 2012-10-02 01:00:00+07:00    16.310618      86.0  sky is clear         2.0   \n",
       "3 2012-10-02 02:00:00+07:00    16.296243      85.0  sky is clear         2.0   \n",
       "4 2012-10-02 03:00:00+07:00    16.281869      84.0  sky is clear         2.0   \n",
       "\n",
       "   wind_direction  pressure  \n",
       "0           150.0    1009.0  \n",
       "1           147.0    1009.0  \n",
       "2           141.0    1009.0  \n",
       "3           135.0    1009.0  \n",
       "4           129.0    1009.0  "
      ],
      "text/html": "<div>\n<style scoped>\n    .dataframe tbody tr th:only-of-type {\n        vertical-align: middle;\n    }\n\n    .dataframe tbody tr th {\n        vertical-align: top;\n    }\n\n    .dataframe thead th {\n        text-align: right;\n    }\n</style>\n<table border=\"1\" class=\"dataframe\">\n  <thead>\n    <tr style=\"text-align: right;\">\n      <th></th>\n      <th>date</th>\n      <th>temperature</th>\n      <th>humidity</th>\n      <th>weather</th>\n      <th>wind_speed</th>\n      <th>wind_direction</th>\n      <th>pressure</th>\n    </tr>\n  </thead>\n  <tbody>\n    <tr>\n      <th>0</th>\n      <td>2012-10-01 23:00:00+07:00</td>\n      <td>16.330000</td>\n      <td>88.0</td>\n      <td>light rain</td>\n      <td>2.0</td>\n      <td>150.0</td>\n      <td>1009.0</td>\n    </tr>\n    <tr>\n      <th>1</th>\n      <td>2012-10-02 00:00:00+07:00</td>\n      <td>16.324993</td>\n      <td>87.0</td>\n      <td>sky is clear</td>\n      <td>2.0</td>\n      <td>147.0</td>\n      <td>1009.0</td>\n    </tr>\n    <tr>\n      <th>2</th>\n      <td>2012-10-02 01:00:00+07:00</td>\n      <td>16.310618</td>\n      <td>86.0</td>\n      <td>sky is clear</td>\n      <td>2.0</td>\n      <td>141.0</td>\n      <td>1009.0</td>\n    </tr>\n    <tr>\n      <th>3</th>\n      <td>2012-10-02 02:00:00+07:00</td>\n      <td>16.296243</td>\n      <td>85.0</td>\n      <td>sky is clear</td>\n      <td>2.0</td>\n      <td>135.0</td>\n      <td>1009.0</td>\n    </tr>\n    <tr>\n      <th>4</th>\n      <td>2012-10-02 03:00:00+07:00</td>\n      <td>16.281869</td>\n      <td>84.0</td>\n      <td>sky is clear</td>\n      <td>2.0</td>\n      <td>129.0</td>\n      <td>1009.0</td>\n    </tr>\n  </tbody>\n</table>\n</div>"
     },
     "metadata": {},
     "execution_count": 50
    }
   ],
   "source": [
    "weather = pd.read_csv(\"https://raw.githubusercontent.com/suneman/socialdata2021/master/files/weather_data.csv\", parse_dates=[\"date\"],\n",
    "                date_parser=lambda x: pd.to_datetime(x).tz_convert(None).tz_localize(\"Etc/GMT+3\").tz_convert(\"Etc/GMT-7\")) \n",
    "# parse_dates specifies what columns contain dates (instead of a string column -> it becomes a date_time column)\n",
    "# data_parser -> we specify our custom date_parser (Pandas has default data_parser, usually we do not need to specify it)\n",
    "# in our data_parser we use \"lambda\" function - it means that we want to apply something to each value in the column\n",
    "# pd.to_datetime(x) - converts each value to date_time obect. By default pd.to_datetime assigns GMT0 timezone, \n",
    "# which is wrong, thus, we specification of timezone with tz_convert(None)\n",
    "# now we want to specify the correct timezone -> we use tz_localize(\"..\")\n",
    "# after we can convert dates to the actual SanFrancisco timezone with tz_convert(\"..\")\n",
    "weather.head()"
   ]
  },
  {
   "cell_type": "code",
   "execution_count": 51,
   "metadata": {},
   "outputs": [],
   "source": [
    "# dataset[\"datetime\"] = dataset.apply(lambda x: pd.to_datetime(x.Date + \" \" + x.Time).round(\"H\").tz_localize(\"ETC/GMT-7\"), axis = 1) \n",
    "\n",
    "# # Here we do a bit more complicated thing\n",
    "# # .apply allows us to use function for each row of a dataframe (read documentation for more info)\n",
    "# # so we take a row (which is x) and take cell of Date and Time -> and concatenate them to one big string\n",
    "# # that can be then converted to datetime. We would also want to remove any seconds and minutes (round to hours)\n",
    "# # then we specify that dates are in GMT-7\n",
    "# # the result is going to be stored in new \"datetime\" column\n",
    "\n",
    "# #it might take some time\n",
    "\n",
    "# # now you  can merge two datasets\n",
    "# dataset.head()"
   ]
  },
  {
   "cell_type": "code",
   "execution_count": 54,
   "metadata": {},
   "outputs": [],
   "source": [
    "Crimes_Weather = pd.merge(dataset, weather, left_on='datetime', right_on='date')"
   ]
  },
  {
   "cell_type": "code",
   "execution_count": 64,
   "metadata": {},
   "outputs": [
    {
     "output_type": "execute_result",
     "data": {
      "text/plain": [
       "sky is clear                        1531\n",
       "mist                                 957\n",
       "broken clouds                        455\n",
       "few clouds                           420\n",
       "scattered clouds                     404\n",
       "light rain                           348\n",
       "overcast clouds                      298\n",
       "haze                                 271\n",
       "fog                                  129\n",
       "moderate rain                        120\n",
       "smoke                                 27\n",
       "heavy intensity rain                  25\n",
       "proximity shower rain                 19\n",
       "light intensity drizzle               16\n",
       "proximity thunderstorm                13\n",
       "thunderstorm                          12\n",
       "drizzle                                9\n",
       "heavy snow                             5\n",
       "thunderstorm with light rain           3\n",
       "thunderstorm with rain                 2\n",
       "proximity thunderstorm with rain       1\n",
       "light intensity shower rain            1\n",
       "squalls                                1\n",
       "light snow                             1\n",
       "Name: weather, dtype: int64"
      ]
     },
     "metadata": {},
     "execution_count": 64
    }
   ],
   "source": [
    "Crimes_Weather['weather'].value_counts() #.isna().sum() #.value_counts()"
   ]
  },
  {
   "cell_type": "code",
   "execution_count": 66,
   "metadata": {},
   "outputs": [],
   "source": [
    "Crimes_Weather['Weather_numerical'] = pd.Categorical(Crimes_Weather['weather']).codes"
   ]
  },
  {
   "cell_type": "code",
   "execution_count": 67,
   "metadata": {},
   "outputs": [
    {
     "output_type": "execute_result",
     "data": {
      "text/plain": [
       "                PdId  IncidntNum  Incident Code                Category  \\\n",
       "0     13036344705011   130363447           5011                BURGLARY   \n",
       "1     13037119905071   130371199           5071                BURGLARY   \n",
       "2     16033022805053   160330228           5053                BURGLARY   \n",
       "3     14033104205121   140331042           5121                BURGLARY   \n",
       "4     14047274305014   140472743           5014                BURGLARY   \n",
       "...              ...         ...            ...                     ...   \n",
       "5063  16040921510149   160409215          10149  FORGERY/COUNTERFEITING   \n",
       "5064  13004642709015   130046427           9015  FORGERY/COUNTERFEITING   \n",
       "5065  13025930710149   130259307          10149  FORGERY/COUNTERFEITING   \n",
       "5066  14110100209020   141101002           9020  FORGERY/COUNTERFEITING   \n",
       "5067  17033730509120   170337305           9120  FORGERY/COUNTERFEITING   \n",
       "\n",
       "                                              Descript  DayOfWeek       Date  \\\n",
       "0          BURGLARY OF APARTMENT HOUSE, FORCIBLE ENTRY     Friday 2013-05-03   \n",
       "1                             BURGLARY, FORCIBLE ENTRY     Friday 2013-05-03   \n",
       "2                    BURGLARY OF STORE, UNLAWFUL ENTRY     Friday 2016-04-22   \n",
       "3     BURGLARY,FLAT UNDER CONSTRUCTION, FORCIBLE ENTRY     Friday 2014-04-18   \n",
       "4                      BURGLARY, VEHICLE (ARREST MADE)     Friday 2014-06-06   \n",
       "...                                                ...        ...        ...   \n",
       "5063                       MONEY, CHANGING FACE AMOUNT   Thursday 2016-05-19   \n",
       "5064                          CHECKS, FORGERY (FELONY)     Monday 2012-11-19   \n",
       "5065                       MONEY, CHANGING FACE AMOUNT     Friday 2013-03-29   \n",
       "5066                   CHECKS, MAKE OR PASS FICTITIOUS  Wednesday 2014-12-31   \n",
       "5067               FORGERY, DRIVERS LICENSE OR ID-CARD     Monday 2017-04-24   \n",
       "\n",
       "       Time PdDistrict      Resolution  ... DayOfWeek_numeric  PdDistrict_num  \\\n",
       "0     16:00    CENTRAL            NONE  ...                 5               3   \n",
       "1     16:30   SOUTHERN            NONE  ...                 5               2   \n",
       "2     10:30    CENTRAL  ARREST, BOOKED  ...                 5               3   \n",
       "3     17:00  INGLESIDE            NONE  ...                 5               7   \n",
       "4     20:10    BAYVIEW  ARREST, BOOKED  ...                 5               4   \n",
       "...     ...        ...             ...  ...               ...             ...   \n",
       "5063  10:04   SOUTHERN       UNFOUNDED  ...                 4               2   \n",
       "5064  18:01   SOUTHERN            NONE  ...                 1               2   \n",
       "5065  16:20    MISSION  ARREST, BOOKED  ...                 5               8   \n",
       "5066  16:55   NORTHERN            NONE  ...                 3               6   \n",
       "5067  22:20    MISSION  ARREST, BOOKED  ...                 1               8   \n",
       "\n",
       "                          date temperature  humidity           weather  \\\n",
       "0    2013-05-03 16:00:00+07:00   17.270000      52.0      sky is clear   \n",
       "1    2013-05-03 16:00:00+07:00   17.270000      52.0      sky is clear   \n",
       "2    2016-04-22 10:00:00+07:00   19.960000      70.0     broken clouds   \n",
       "3    2014-04-18 17:00:00+07:00   12.790000      76.0  scattered clouds   \n",
       "4    2014-06-06 20:00:00+07:00   12.370000      94.0              mist   \n",
       "...                        ...         ...       ...               ...   \n",
       "5063 2016-05-19 10:00:00+07:00   28.290000      84.0  scattered clouds   \n",
       "5064 2012-11-19 18:00:00+07:00   12.040000      82.0              mist   \n",
       "5065 2013-03-29 16:00:00+07:00   12.200000     100.0               fog   \n",
       "5066 2014-12-31 17:00:00+07:00    8.090333      96.0      sky is clear   \n",
       "5067 2017-04-24 22:00:00+07:00   12.000000      76.0     broken clouds   \n",
       "\n",
       "      wind_speed  wind_direction  pressure  Weather_numerical  \n",
       "0            4.0           130.0    1020.0                 18  \n",
       "1            4.0           130.0    1020.0                 18  \n",
       "2            4.0           220.0     996.0                  0  \n",
       "3            9.0           280.0    1012.0                 17  \n",
       "4            1.0           225.0    1009.0                 11  \n",
       "...          ...             ...       ...                ...  \n",
       "5063         3.0           350.0    1009.0                 17  \n",
       "5064         5.0           250.0    1017.0                 11  \n",
       "5065         2.0           190.0    1017.0                  3  \n",
       "5066         9.0            20.0    1039.0                 18  \n",
       "5067         4.0           270.0    1018.0                  0  \n",
       "\n",
       "[5068 rows x 49 columns]"
      ],
      "text/html": "<div>\n<style scoped>\n    .dataframe tbody tr th:only-of-type {\n        vertical-align: middle;\n    }\n\n    .dataframe tbody tr th {\n        vertical-align: top;\n    }\n\n    .dataframe thead th {\n        text-align: right;\n    }\n</style>\n<table border=\"1\" class=\"dataframe\">\n  <thead>\n    <tr style=\"text-align: right;\">\n      <th></th>\n      <th>PdId</th>\n      <th>IncidntNum</th>\n      <th>Incident Code</th>\n      <th>Category</th>\n      <th>Descript</th>\n      <th>DayOfWeek</th>\n      <th>Date</th>\n      <th>Time</th>\n      <th>PdDistrict</th>\n      <th>Resolution</th>\n      <th>...</th>\n      <th>DayOfWeek_numeric</th>\n      <th>PdDistrict_num</th>\n      <th>date</th>\n      <th>temperature</th>\n      <th>humidity</th>\n      <th>weather</th>\n      <th>wind_speed</th>\n      <th>wind_direction</th>\n      <th>pressure</th>\n      <th>Weather_numerical</th>\n    </tr>\n  </thead>\n  <tbody>\n    <tr>\n      <th>0</th>\n      <td>13036344705011</td>\n      <td>130363447</td>\n      <td>5011</td>\n      <td>BURGLARY</td>\n      <td>BURGLARY OF APARTMENT HOUSE, FORCIBLE ENTRY</td>\n      <td>Friday</td>\n      <td>2013-05-03</td>\n      <td>16:00</td>\n      <td>CENTRAL</td>\n      <td>NONE</td>\n      <td>...</td>\n      <td>5</td>\n      <td>3</td>\n      <td>2013-05-03 16:00:00+07:00</td>\n      <td>17.270000</td>\n      <td>52.0</td>\n      <td>sky is clear</td>\n      <td>4.0</td>\n      <td>130.0</td>\n      <td>1020.0</td>\n      <td>18</td>\n    </tr>\n    <tr>\n      <th>1</th>\n      <td>13037119905071</td>\n      <td>130371199</td>\n      <td>5071</td>\n      <td>BURGLARY</td>\n      <td>BURGLARY, FORCIBLE ENTRY</td>\n      <td>Friday</td>\n      <td>2013-05-03</td>\n      <td>16:30</td>\n      <td>SOUTHERN</td>\n      <td>NONE</td>\n      <td>...</td>\n      <td>5</td>\n      <td>2</td>\n      <td>2013-05-03 16:00:00+07:00</td>\n      <td>17.270000</td>\n      <td>52.0</td>\n      <td>sky is clear</td>\n      <td>4.0</td>\n      <td>130.0</td>\n      <td>1020.0</td>\n      <td>18</td>\n    </tr>\n    <tr>\n      <th>2</th>\n      <td>16033022805053</td>\n      <td>160330228</td>\n      <td>5053</td>\n      <td>BURGLARY</td>\n      <td>BURGLARY OF STORE, UNLAWFUL ENTRY</td>\n      <td>Friday</td>\n      <td>2016-04-22</td>\n      <td>10:30</td>\n      <td>CENTRAL</td>\n      <td>ARREST, BOOKED</td>\n      <td>...</td>\n      <td>5</td>\n      <td>3</td>\n      <td>2016-04-22 10:00:00+07:00</td>\n      <td>19.960000</td>\n      <td>70.0</td>\n      <td>broken clouds</td>\n      <td>4.0</td>\n      <td>220.0</td>\n      <td>996.0</td>\n      <td>0</td>\n    </tr>\n    <tr>\n      <th>3</th>\n      <td>14033104205121</td>\n      <td>140331042</td>\n      <td>5121</td>\n      <td>BURGLARY</td>\n      <td>BURGLARY,FLAT UNDER CONSTRUCTION, FORCIBLE ENTRY</td>\n      <td>Friday</td>\n      <td>2014-04-18</td>\n      <td>17:00</td>\n      <td>INGLESIDE</td>\n      <td>NONE</td>\n      <td>...</td>\n      <td>5</td>\n      <td>7</td>\n      <td>2014-04-18 17:00:00+07:00</td>\n      <td>12.790000</td>\n      <td>76.0</td>\n      <td>scattered clouds</td>\n      <td>9.0</td>\n      <td>280.0</td>\n      <td>1012.0</td>\n      <td>17</td>\n    </tr>\n    <tr>\n      <th>4</th>\n      <td>14047274305014</td>\n      <td>140472743</td>\n      <td>5014</td>\n      <td>BURGLARY</td>\n      <td>BURGLARY, VEHICLE (ARREST MADE)</td>\n      <td>Friday</td>\n      <td>2014-06-06</td>\n      <td>20:10</td>\n      <td>BAYVIEW</td>\n      <td>ARREST, BOOKED</td>\n      <td>...</td>\n      <td>5</td>\n      <td>4</td>\n      <td>2014-06-06 20:00:00+07:00</td>\n      <td>12.370000</td>\n      <td>94.0</td>\n      <td>mist</td>\n      <td>1.0</td>\n      <td>225.0</td>\n      <td>1009.0</td>\n      <td>11</td>\n    </tr>\n    <tr>\n      <th>...</th>\n      <td>...</td>\n      <td>...</td>\n      <td>...</td>\n      <td>...</td>\n      <td>...</td>\n      <td>...</td>\n      <td>...</td>\n      <td>...</td>\n      <td>...</td>\n      <td>...</td>\n      <td>...</td>\n      <td>...</td>\n      <td>...</td>\n      <td>...</td>\n      <td>...</td>\n      <td>...</td>\n      <td>...</td>\n      <td>...</td>\n      <td>...</td>\n      <td>...</td>\n      <td>...</td>\n    </tr>\n    <tr>\n      <th>5063</th>\n      <td>16040921510149</td>\n      <td>160409215</td>\n      <td>10149</td>\n      <td>FORGERY/COUNTERFEITING</td>\n      <td>MONEY, CHANGING FACE AMOUNT</td>\n      <td>Thursday</td>\n      <td>2016-05-19</td>\n      <td>10:04</td>\n      <td>SOUTHERN</td>\n      <td>UNFOUNDED</td>\n      <td>...</td>\n      <td>4</td>\n      <td>2</td>\n      <td>2016-05-19 10:00:00+07:00</td>\n      <td>28.290000</td>\n      <td>84.0</td>\n      <td>scattered clouds</td>\n      <td>3.0</td>\n      <td>350.0</td>\n      <td>1009.0</td>\n      <td>17</td>\n    </tr>\n    <tr>\n      <th>5064</th>\n      <td>13004642709015</td>\n      <td>130046427</td>\n      <td>9015</td>\n      <td>FORGERY/COUNTERFEITING</td>\n      <td>CHECKS, FORGERY (FELONY)</td>\n      <td>Monday</td>\n      <td>2012-11-19</td>\n      <td>18:01</td>\n      <td>SOUTHERN</td>\n      <td>NONE</td>\n      <td>...</td>\n      <td>1</td>\n      <td>2</td>\n      <td>2012-11-19 18:00:00+07:00</td>\n      <td>12.040000</td>\n      <td>82.0</td>\n      <td>mist</td>\n      <td>5.0</td>\n      <td>250.0</td>\n      <td>1017.0</td>\n      <td>11</td>\n    </tr>\n    <tr>\n      <th>5065</th>\n      <td>13025930710149</td>\n      <td>130259307</td>\n      <td>10149</td>\n      <td>FORGERY/COUNTERFEITING</td>\n      <td>MONEY, CHANGING FACE AMOUNT</td>\n      <td>Friday</td>\n      <td>2013-03-29</td>\n      <td>16:20</td>\n      <td>MISSION</td>\n      <td>ARREST, BOOKED</td>\n      <td>...</td>\n      <td>5</td>\n      <td>8</td>\n      <td>2013-03-29 16:00:00+07:00</td>\n      <td>12.200000</td>\n      <td>100.0</td>\n      <td>fog</td>\n      <td>2.0</td>\n      <td>190.0</td>\n      <td>1017.0</td>\n      <td>3</td>\n    </tr>\n    <tr>\n      <th>5066</th>\n      <td>14110100209020</td>\n      <td>141101002</td>\n      <td>9020</td>\n      <td>FORGERY/COUNTERFEITING</td>\n      <td>CHECKS, MAKE OR PASS FICTITIOUS</td>\n      <td>Wednesday</td>\n      <td>2014-12-31</td>\n      <td>16:55</td>\n      <td>NORTHERN</td>\n      <td>NONE</td>\n      <td>...</td>\n      <td>3</td>\n      <td>6</td>\n      <td>2014-12-31 17:00:00+07:00</td>\n      <td>8.090333</td>\n      <td>96.0</td>\n      <td>sky is clear</td>\n      <td>9.0</td>\n      <td>20.0</td>\n      <td>1039.0</td>\n      <td>18</td>\n    </tr>\n    <tr>\n      <th>5067</th>\n      <td>17033730509120</td>\n      <td>170337305</td>\n      <td>9120</td>\n      <td>FORGERY/COUNTERFEITING</td>\n      <td>FORGERY, DRIVERS LICENSE OR ID-CARD</td>\n      <td>Monday</td>\n      <td>2017-04-24</td>\n      <td>22:20</td>\n      <td>MISSION</td>\n      <td>ARREST, BOOKED</td>\n      <td>...</td>\n      <td>1</td>\n      <td>8</td>\n      <td>2017-04-24 22:00:00+07:00</td>\n      <td>12.000000</td>\n      <td>76.0</td>\n      <td>broken clouds</td>\n      <td>4.0</td>\n      <td>270.0</td>\n      <td>1018.0</td>\n      <td>0</td>\n    </tr>\n  </tbody>\n</table>\n<p>5068 rows × 49 columns</p>\n</div>"
     },
     "metadata": {},
     "execution_count": 67
    }
   ],
   "source": [
    "Crimes_Weather"
   ]
  },
  {
   "cell_type": "code",
   "execution_count": 73,
   "metadata": {},
   "outputs": [],
   "source": [
    "features3 = Crimes_Weather.loc[:, ['Month', 'Time_numeric', 'DayOfWeek_numeric', 'PdDistrict_num', 'Weather_numerical']].copy()\n",
    "targets3 = Crimes_Weather.loc[:, ['Category']].copy()\n",
    "\n",
    "X_train, X_test, y_train, y_test = train_test_split(features3, targets3, test_size = 0.3)\n",
    "\n",
    "clf = RandomForestClassifier(n_estimators = 100)\n",
    "clf.fit(X_train, y_train)\n",
    "y_pred = clf.predict(X_test)"
   ]
  },
  {
   "cell_type": "code",
   "execution_count": 74,
   "metadata": {},
   "outputs": [
    {
     "output_type": "execute_result",
     "data": {
      "text/plain": [
       "0.6850756081525312"
      ]
     },
     "metadata": {},
     "execution_count": 74
    }
   ],
   "source": [
    "evaluate(y_test, y_pred)"
   ]
  },
  {
   "cell_type": "code",
   "execution_count": null,
   "metadata": {},
   "outputs": [],
   "source": []
  }
 ]
}