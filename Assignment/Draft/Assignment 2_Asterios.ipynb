{
 "cells": [
  {
   "cell_type": "markdown",
   "metadata": {},
   "source": [
    " ---\n",
    " # Assignment 2.\n",
    " ## 02806 Social data analysis and visualization\n",
    " ## Apr. 2021\n",
    " ---"
   ]
  },
  {
   "cell_type": "markdown",
   "metadata": {},
   "source": [
    " ---\n",
    " ## Importing needed libraries:\n",
    " ---"
   ]
  },
  {
   "cell_type": "code",
   "execution_count": 1,
   "metadata": {},
   "outputs": [],
   "source": [
    "import numpy as np\n",
    "import pandas as pd\n",
    "\n",
    "from IPython.display import display\n",
    "from IPython import get_ipython\n",
    "get_ipython().run_line_magic('matplotlib', 'inline')\n",
    "import matplotlib.pyplot as plt \n",
    "import seaborn as sns\n",
    "sns.set()\n",
    "import folium\n",
    "import calendar\n",
    "import os \n",
    "from sklearn.utils import resample\n",
    "from sklearn.model_selection import train_test_split\n",
    "from sklearn.tree import DecisionTreeClassifier\n",
    "from sklearn.ensemble import RandomForestClassifier\n",
    "import warnings\n",
    "warnings.filterwarnings(\"ignore\")\n",
    "\n",
    "from bokeh.plotting import figure, show\n",
    "from bokeh.io import output_notebook\n",
    "from bokeh.models import ColumnDataSource, FactorRange"
   ]
  },
  {
   "cell_type": "markdown",
   "metadata": {},
   "source": [
    "## Part 1: Questions to text and lectures."
   ]
  },
  {
   "cell_type": "markdown",
   "metadata": {},
   "source": [
    ">A) Please answer my questions to the Segal and Heer paper we read during lecture 7 and 8.\n",
    "\n",
    ">* What is the *Oxford English Dictionary's* defintion of a narrative?\n"
   ]
  },
  {
   "cell_type": "markdown",
   "metadata": {},
   "source": [
    "According to the Oxford English Dictionary, **narrative** is defined as an *account of a series of events, facts and observations that is given in order and with the establishing of connections between them.* \n",
    "\n",
    "To rephrase, a narrative is a structured, interconnected and ordered series of events and facts. Narratives most of the times are structured with a beggining, middle and end, describing an introduction, tension (or conflict) and a final resolution for the end."
   ]
  },
  {
   "cell_type": "markdown",
   "metadata": {},
   "source": [
    ">* What is your favorite visualization among the examples in section 3? Explain why in a few words."
   ]
  },
  {
   "cell_type": "markdown",
   "metadata": {},
   "source": [
    "A favorite visualization among the examples in section 3, is **Budget Forecasts, Compared With Reality**. The particular visualization is both **interactive, informative and intuitive** for the user. \n",
    "\n",
    "The consistency and the intanctness of the layout is being desplayed by a line chart for depincting the economic conditions from 1980 with a forecast to 2020, a prefered visualization that provide a natural way to depict the economic fluctuations. The interactiveness comes with the progress bar that the user can navigate into the the selected time period and hover over specific parts of the graph, only to reveal informative piece of text that highlight specific milestones and important events. All of this without getting redirected to another source *(details on-demand)*.  Moreover, with the slide-show the user can determine the pace of the story telling to his own preference and the text presented on the left promotes interaction without confusing the user with the limitless options *(user-friendly)*."
   ]
  },
  {
   "cell_type": "markdown",
   "metadata": {},
   "source": [
    "> * What's the point of Figure 7?"
   ]
  },
  {
   "cell_type": "markdown",
   "metadata": {},
   "source": [
    "In figure 7, a big amount of sourced visualizations is gathered and interpreted in subcategories in order to perform design space analysis regarding the narrative visualization. Specifically the authors are looking into grouping design features into coherent categories. To achieve that, 58 visualisations are grouped into the genres they belong to, and then the visualizations are further being devided into groups of its characteristics regarding **Visual Narrative** and **Narrative Structure**.\n",
    "\n",
    "In *Visual Narrative* baseline characteristics are being addressed in order to categorise the visuality of the graphs, whereas in the *Narative Structure* baseline charactiristics formed to further analise the narrativess of the visualisations.\n",
    "\n",
    "The point is to depict characteristics (and patterns) regarding the visual narrative and the structure of the narrative as well as a form of a baseline analysis that every visualisation can be applied and analysed to universal characteristics. "
   ]
  },
  {
   "cell_type": "markdown",
   "metadata": {},
   "source": [
    "> * Use Figure 7 to find the most common design choice within each category for the Visual narrative and Narrative structure (the categories within visual narrative are 'visual structuring', 'highlighting', etc)."
   ]
  },
  {
   "cell_type": "markdown",
   "metadata": {},
   "source": [
    "From the 58 analysed sourced visualizations taken from online journalism (71%), business (20%) and visualization research (9%) the most common characteristics grouped in the visual and structure aspect are the following:\n",
    "\n",
    "**Visual Narrative**:\n",
    "\n",
    "* Visual structuring: Most common choice prefered is a **Consistent Visual Platform**. After that second next preffered option is the \"Progress Bar/ Timebar\".\n",
    "* Highlighting: For highlighting purposes the most preffered option is by disticting features (**Feature Distinction**). After highlighting features by distinction, **highlighting with motion** is a second favorite. \n",
    "* Transition Guidance: Regarding transition guidances two most beloved ways are the **Object continuity** and second most favorite is **Animated Transitions**. \n",
    "\n",
    "**Narrative Structure**:\n",
    "\n",
    "* Ordering: A **User Directed Path** is mostly preffered than a more simple in **Linear** order one. \n",
    "* Interactivity: Most common design choice in interactivity is divided between **Hover Highlighting/ Details** and Very Limited interactivity. \n",
    "* Messaging: Common designs here are being given with **Captions/Headlines** with a second most common being the **Annotations**.\n"
   ]
  },
  {
   "cell_type": "markdown",
   "metadata": {},
   "source": [
    "> * Check out Figure 8 and section 4.3. What is your favorite genre of narrative visualization? Why? What is your least favorite genre? Why?"
   ]
  },
  {
   "cell_type": "markdown",
   "metadata": {},
   "source": [
    "A selection of a narrative visualization genre depend every time on the particular purpose of the media. In the answer different aspects must be considered in order to give a concrete answer. One of them could be the background of the audience that is intended to be presented to. \n",
    "\n",
    "Speaking for the authors of this assignment, and focusing purely on Business and Data Science applications, Annotated Charts or Flow Charts are mostly a solid option of a structured narrative visualization. That being said, the reason is mostly, that a good narrative visualization has to be as self-explanatory and as appealing to the 'eye' as possible. These two options check both of these options. \n",
    "\n",
    "A least favorite genre is the Partioned Poster, due to the fact that a multi-view visualization might confuse the person that the visualization is being made."
   ]
  },
  {
   "cell_type": "markdown",
   "metadata": {},
   "source": [
    ">B) Also please answer the questions to my talk on [explanatory data visualization](https://www.youtube.com/watch?v=yHKYMGwefso)\n",
    "\n",
    ">* What are the three key elements to keep in mind when you design an explanatory visualization?"
   ]
  },
  {
   "cell_type": "markdown",
   "metadata": {},
   "source": [
    "There are three important elements when designing an explanatory visualization:\n",
    "- First, a concrete question should formulated to procceed with the visualization. To find a target and throught that to address the visual narrative as well as the structural narrative. A specific goal is important. \n",
    "- Secondly, is to have to option for the reader to explore the given findings and investigate all kinds of aspects used in the explanatory narrative. This makes the explanatory more engaging and eventually more resourceful.\n",
    "- Lastly (but equally important), is to have in mind the audience that the findings will be addressed to. The visuals as well as the terminology (annotation) are adjustable to the audiences knowledge level."
   ]
  },
  {
   "cell_type": "markdown",
   "metadata": {},
   "source": [
    ">* In the video I talk about (1) *overview first*,  (2) *zoom and filter*,  (3) *details on demand*. \n",
    "  - Go online and find a visualization that follows these principles (don't use one from the video). \n",
    "  - Explain how it does achieves (1)-(3). It might be useful to use screenshots to illustrate your explanation."
   ]
  },
  {
   "cell_type": "markdown",
   "metadata": {},
   "source": [
    "It has been a lot of time since anyone has been present to a physical concert due to the pandemic situation. Let's remember how it feels like with this interactive visualization that depicts differences of **artists studio vs live version** by being able to **zoom-and-filter by different characteristics** like *Energy, Valence, Duration, Acousticness, Liveness and Instrumentalness (how cool!)*. \n",
    "\n",
    "The interactive visualization that follows the three aformentioned principles is [Live Music Analyst](https://pudding.cool/2021/02/jukebox/). \n",
    "\n",
    "After the **user picks the prefered artist**, he presented with an **overview** of his songs in jitter plot from (less different to Live version is more different). Let's see a favorite artist, Iggy Pop. \n",
    "\n",
    "![image info](https://raw.githubusercontent.com/astenast/social-data-analysis/main/Asterios/Images/Iggy1.png?token=AMWUYUID5Q3XOMC7FVV45DLAM34PG)\n",
    "\n",
    "We can see different songs with the most overall different being \"TV Eye from 1977 Live concert\". When the user clicks the studio vs live version appears so he can hear it. \n",
    "\n",
    "**Zooming and filtering by Duration** we see that \"TV Eye\" **(zoom and filter)**, is placed nearly at the bottom with \"The Passenger - Live in Paris 23rd Sept\" being first with extra 74 seconds comparing to studio.\n",
    "\n",
    "![image info](https://raw.githubusercontent.com/astenast/social-data-analysis/main/Asterios/Images/iggy%202-3.png?token=AMWUYUPW4A7O6MRO2KB7QETAM34QQ)\n",
    "\n",
    "Lastly, by clicking on a song details will reveal with the categories shown below **(details on demand)**, comparing the studio vs live version in its characteristics. The song characteristics for TV Eye are the following:\n",
    "\n",
    "![image info](https://raw.githubusercontent.com/astenast/social-data-analysis/main/Asterios/Images/iggy%204.png?token=AMWUYUNWKRHXIZ6FLFUNIH3AM34Q6)\n",
    "\n",
    "Some words from the authors of the visualization:\n",
    ">\"we found as many live albums as we could and matched them to their studio counterparts using the SpotifyAPI. Then, by looking at the differences between live and studio songs using numerical metrics like energy (how intense or lively a track sounds), valence (a measurement of a song’s mood), and duration (to find those five-minute guitar solos), we found great live performances that we had missed. \n",
    "... We pulled the intersected list of artist names (about 10,950) from the Spotify API, and ended up with around 8,000 artists’ Spotify API data. We culled this list of artists by selecting only artists who had charted on the Billboard Hot 100.\""
   ]
  },
  {
   "cell_type": "markdown",
   "metadata": {},
   "source": [
    "> * Explain in your own words: How is explanatory data analysis different from exploratory data analysis?"
   ]
  },
  {
   "cell_type": "markdown",
   "metadata": {},
   "source": [
    "Exploratory data analysis has to do with the user \"exploring\" the data. This means engaging with the data in all different aspects and trying to depict correlations and all kinds of valuable information through data analysis and data visualization, all to better understand the given data and form different hypothesis. \n",
    "\n",
    "The explanatory data analysis, is happening when the user has already explored the data but now want to inform the others *the most efficent way*. Rephrasing, it is about how to communicate the understood dataset.  "
   ]
  },
  {
   "cell_type": "code",
   "execution_count": null,
   "metadata": {},
   "outputs": [],
   "source": []
  }
 ],
 "metadata": {
  "kernelspec": {
   "display_name": "Python 3",
   "language": "python",
   "name": "python3"
  },
  "language_info": {
   "codemirror_mode": {
    "name": "ipython",
    "version": 3
   },
   "file_extension": ".py",
   "mimetype": "text/x-python",
   "name": "python",
   "nbconvert_exporter": "python",
   "pygments_lexer": "ipython3",
   "version": "3.7.7"
  }
 },
 "nbformat": 4,
 "nbformat_minor": 2
}